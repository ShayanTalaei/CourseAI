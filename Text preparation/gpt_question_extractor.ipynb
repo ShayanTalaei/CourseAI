{
 "cells": [
  {
   "cell_type": "code",
   "execution_count": 1,
   "metadata": {},
   "outputs": [],
   "source": [
    "from hazm import *"
   ]
  },
  {
   "cell_type": "code",
   "execution_count": 2,
   "metadata": {},
   "outputs": [],
   "source": [
    "## read a text file\n",
    "addr = \"../Questions/Biology/gpt_biology_12_chp1.txt\"\n",
    "with open(addr, 'r', encoding='utf-8') as f:\n",
    "    text = f.read()\n"
   ]
  },
  {
   "cell_type": "code",
   "execution_count": 3,
   "metadata": {},
   "outputs": [],
   "source": [
    "normalizer = Normalizer()\n",
    "normalized_text = normalizer.normalize(text)\n",
    "\n",
    "sentences = sent_tokenize(normalized_text)\n",
    "\n",
    "# sentences"
   ]
  },
  {
   "cell_type": "code",
   "execution_count": 9,
   "metadata": {},
   "outputs": [],
   "source": [
    "# make a dictionary of questions and answers\n",
    "# save the dictionary into a csv file\n",
    "\n",
    "questions = []\n",
    "qanda = {}\n",
    "\n",
    "for i, sentence in enumerate(sentences):\n",
    "    if \"سوال:\" in sentence:\n",
    "        answer = sentences[i+1]\n",
    "        if \"پاسخ:\" in answer:\n",
    "            ques_index = sentence.find(\"سوال:\")\n",
    "            answ_index = answer.find(\"پاسخ:\")\n",
    "            question = sentence[ques_index+5:]\n",
    "            answer = answer[answ_index+5:]\n",
    "            questions.append(question)\n",
    "            qanda[question] = answer\n",
    "\n",
    "# save the dictionary into a csv file\n",
    "import csv\n",
    "import codecs\n",
    "with open('qanda.csv', 'w', encoding=\"utf-8-sig\") as f:\n",
    "    f.write(\"%s,%s\\n\"%(\"question\",\"answer\"))\n",
    "    for key in qanda.keys():\n",
    "        f.write(\"%s,%s\\n\"%(key,qanda[key]))\n",
    "\n"
   ]
  },
  {
   "cell_type": "code",
   "execution_count": null,
   "metadata": {},
   "outputs": [],
   "source": []
  }
 ],
 "metadata": {
  "kernelspec": {
   "display_name": "Python 3",
   "language": "python",
   "name": "python3"
  },
  "language_info": {
   "codemirror_mode": {
    "name": "ipython",
    "version": 3
   },
   "file_extension": ".py",
   "mimetype": "text/x-python",
   "name": "python",
   "nbconvert_exporter": "python",
   "pygments_lexer": "ipython3",
   "version": "3.7.9"
  },
  "orig_nbformat": 4
 },
 "nbformat": 4,
 "nbformat_minor": 2
}
