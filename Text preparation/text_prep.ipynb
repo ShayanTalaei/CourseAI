{
 "cells": [
  {
   "cell_type": "code",
   "execution_count": 2,
   "metadata": {},
   "outputs": [],
   "source": [
    "# https://www.roshan-ai.ir/hazm/\n",
    "# pip install hazm\n",
    "# https://stackoverflow.com/questions/65318857/how-to-embed-english-in-right-to-left-languages"
   ]
  },
  {
   "cell_type": "code",
   "execution_count": 4,
   "metadata": {},
   "outputs": [],
   "source": [
    "from hazm import *"
   ]
  },
  {
   "cell_type": "code",
   "execution_count": 10,
   "metadata": {},
   "outputs": [],
   "source": [
    "## read a text file\n",
    "addr = \"../Questions/Biology/test.txt\"\n",
    "with open(addr, 'r', encoding='utf-8') as f:\n",
    "    text = f.read()\n"
   ]
  },
  {
   "cell_type": "code",
   "execution_count": 9,
   "metadata": {},
   "outputs": [
    {
     "data": {
      "text/plain": [
       "['-۱۷ کدام مورد، موقعیت صحیح پیوند پپتیدی را در ساختار پیشهورمون انسولین نشان میدهد؟',\n",
       " '۱) بین انتهای آمین زنجیرة A و انتهای کربوکسیل زنجیرة C ۲) بین انتهای کربوکسیل زنجیرة A و انتهای آمین زنجیرة C ۳) بین انتهای کربوکسیل زنجیرة B و انتهای آمین زنجیرة A ۴) بین انتهای آمین زنجیرة B و انتهای کربوکسیل زنجیرة A -۱۸ با توجه به ساختار دوم پروتئینها و آن دسته از پیوندهای هیدروژنی که منشأ تشکیل دو نمونه معروف این ساختار هستند، کدام مورد نادرست است؟',\n",
       " '۱) در ساختار مارپیچی، گروههای R آمینواسیدها به سمت خارج ساختار قرار میگیرند.',\n",
       " '۲) در ساختار صفحهای، کربن مرکزی آمینواسیدها، تقریبا در محل تاخوردگی قرار دارد.',\n",
       " '۳) در هر دو ساختار، پیوندهای هیدروژنی بین آمینواسیدهای مجاور هم در یک زنجیرة پلیپپتیدی برقرار میشوند.',\n",
       " '۴) در هر دو ساختار، پیوندهای هیدروژنی بین اتم اکسیژن متصل به کربن یک آمینواسید با اتم هیدروژن گروه آمینی آمینواسید دیگر، برقرار میشوند.']"
      ]
     },
     "execution_count": 9,
     "metadata": {},
     "output_type": "execute_result"
    }
   ],
   "source": [
    "# normalizer = Normalizer()\n",
    "# normalized_text = normalizer.normalize(text)\n",
    "\n",
    "# sentences = sent_tokenize(normalized_text)\n",
    "\n",
    "# sentences"
   ]
  },
  {
   "cell_type": "code",
   "execution_count": 51,
   "metadata": {},
   "outputs": [
    {
     "data": {
      "text/plain": [
       "('1', ' بين انتهاي آمين زنجيرة A و انتهاي كربوكسيل زنجيرة C')"
      ]
     },
     "execution_count": 51,
     "metadata": {},
     "output_type": "execute_result"
    }
   ],
   "source": [
    "import re\n",
    "\n",
    "sentences = text.split(\"\\n\")\n",
    "samp = sentences[2]\n",
    "def is_question(text):\n",
    "    if re.search(r\"-(\\d)+\", text):\n",
    "        return True\n",
    "    else:\n",
    "        return False\n",
    "\n",
    "def is_option(text):\n",
    "    if re.search(r\"\\d+\\)\", text):\n",
    "        return True\n",
    "    else:\n",
    "        return False\n",
    "\n",
    "def get_question_num_text(string):\n",
    "    cut = re.search(r\"-(\\d)+\", string).span()[1]\n",
    "    return string[1:cut], string[cut:]\n",
    "\n",
    "def get_option_num_text(string):\n",
    "    cut = re.search(r\"\\d+\\)\", string).span()[1]\n",
    "    return string[:cut-1], string[cut:]\n",
    "\n",
    "class Question:\n",
    "    def __init__(self, question, options):\n",
    "        self.number = number\n",
    "        self.question = question\n",
    "        self.options = options\n",
    "\n",
    "get_question_num_text(sentences[1])\n",
    "get_option_num_text(sentences[2])"
   ]
  },
  {
   "cell_type": "code",
   "execution_count": 53,
   "metadata": {},
   "outputs": [
    {
     "name": "stdout",
     "output_type": "stream",
     "text": [
      "7\n"
     ]
    }
   ],
   "source": [
    "for i, string in enumerate(sentences):\n",
    "    if is_question(string):\n",
    "        number, question = get_question_num_text(string)\n",
    "        options = []\n",
    "        for j in range(4):\n",
    "            if is_option(sentences[i+j+1]):\n",
    "                options.append(get_option_num_text(sentences[i+j+1])[1])\n",
    "            else: \n",
    "                print(i+j+1)"
   ]
  },
  {
   "cell_type": "code",
   "execution_count": 54,
   "metadata": {},
   "outputs": [
    {
     "data": {
      "text/plain": [
       "['',\n",
       " '-17 كدام مورد، موقعيت صحيح پيوند پپتيدي را در ساختار پيشهورمون انسولين نشان ميدهد؟',\n",
       " '1) بين انتهاي آمين زنجيرة A و انتهاي كربوكسيل زنجيرة C',\n",
       " '2) بين انتهاي كربوكسيل زنجيرة A و انتهاي آمين زنجيرة C',\n",
       " '3) بين انتهاي كربوكسيل زنجيرة B و انتهاي آمين زنجيرة A',\n",
       " '4) بين انتهاي آمين زنجيرة B و انتهاي كربوكسيل زنجيرة A',\n",
       " '-18 با توجه به ساختار دوم پروتئينها و آن دسته از پيوندهاي هيدروژني كه منشأ تشكيل دو نمونه معروف اين',\n",
       " 'ساختار هستند، كدام مورد نادرست است؟',\n",
       " '1) در ساختار مارپيچي، گروههاي R آمينواسيدها به سمت خارج ساختار قرار ميگيرند.',\n",
       " '2) در ساختار صفحهاي، كربن مركزيِ آمينواسيدها، تقريباً در محل تاخوردگي قرار دارد.',\n",
       " '3) در هر دو ساختار، پيوندهاي هيدروژني بين آمينواسيدهاي مجاور هم در يك زنجيرة پليپپتيدي برقرار ميشوند.',\n",
       " '4) در هر دو ساختار، پيوندهاي هيدروژني بين اتم اكسيژن متصل به كربن يك آمينواسيد با اتم هيدروژن گروه',\n",
       " 'آميني آمينواسيد ديگر، برقرار ميشوند. ']"
      ]
     },
     "execution_count": 54,
     "metadata": {},
     "output_type": "execute_result"
    }
   ],
   "source": [
    "sentences"
   ]
  },
  {
   "cell_type": "code",
   "execution_count": 77,
   "metadata": {},
   "outputs": [
    {
     "name": "stdout",
     "output_type": "stream",
     "text": [
      "(1, 4) -17 17\n",
      "(304, 307) -18 18\n"
     ]
    }
   ],
   "source": [
    "\n",
    "pointer = 0\n",
    "for question_reg in re.finditer( r\"-(\\d)+\", text):\n",
    "    span, group = question_reg.span(), question_reg.group()\n",
    "    question_number = int(group[1:])\n",
    "    pointer = span[1]\n",
    "    for i in range(4):\n",
    "        option_reg = re.search( r\"\\d+\\)\", text[pointer:])\n",
    "        if option_reg:\n",
    "            span, group = option_reg.span(), option_reg.group()\n",
    "            pointer = span[1]\n",
    "            option = group[:-1\n",
    "        else:\n",
    "            error(\"Not enough options\")"
   ]
  },
  {
   "cell_type": "code",
   "execution_count": 75,
   "metadata": {},
   "outputs": [
    {
     "data": {
      "text/plain": [
       "'\\n-17 كدام مورد، موقعيت صحيح پيوند پپتيدي را در ساختار پيشهورمون انسولين نشان ميدهد؟\\n1) بين انتهاي آمين زنجيرة A و انتهاي كربوكسيل زنجيرة C\\n2) بين انتهاي كربوكسيل زنجيرة A و انتهاي آمين زنجيرة C\\n3) بين انتهاي كربوكسيل زنجيرة B و انتهاي آمين زنجيرة A\\n4) بين انتهاي آمين زنجيرة B و انتهاي كربوكسيل زنجيرة A\\n-18 با توجه به ساختار دوم پروتئينها و آن دسته از پيوندهاي هيدروژني كه منشأ تشكيل دو نمونه معروف اين\\nساختار هستند، كدام مورد نادرست است؟\\n1) در ساختار مارپيچي، گروههاي R آمينواسيدها به سمت خارج ساختار قرار ميگيرند.\\n2) در ساختار صفحهاي، كربن مركزيِ آمينواسيدها، تقريباً در محل تاخوردگي قرار دارد.\\n3) در هر دو ساختار، پيوندهاي هيدروژني بين آمينواسيدهاي مجاور هم در يك زنجيرة پليپپتيدي برقرار ميشوند.\\n4) در هر دو ساختار، پيوندهاي هيدروژني بين اتم اكسيژن متصل به كربن يك آمينواسيد با اتم هيدروژن گروه\\nآميني آمينواسيد ديگر، برقرار ميشوند. '"
      ]
     },
     "execution_count": 75,
     "metadata": {},
     "output_type": "execute_result"
    }
   ],
   "source": [
    "text"
   ]
  },
  {
   "cell_type": "code",
   "execution_count": null,
   "metadata": {},
   "outputs": [],
   "source": []
  }
 ],
 "metadata": {
  "kernelspec": {
   "display_name": "Python 3",
   "language": "python",
   "name": "python3"
  },
  "language_info": {
   "codemirror_mode": {
    "name": "ipython",
    "version": 3
   },
   "file_extension": ".py",
   "mimetype": "text/x-python",
   "name": "python",
   "nbconvert_exporter": "python",
   "pygments_lexer": "ipython3",
   "version": "3.7.9"
  },
  "orig_nbformat": 4
 },
 "nbformat": 4,
 "nbformat_minor": 2
}
